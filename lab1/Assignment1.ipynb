{
 "cells": [
  {
   "cell_type": "markdown",
   "metadata": {},
   "source": [
    "## PROG8245 Assignment 1: (Total Marks 100)\n",
    "## Start on 16th of September- Due on 27th of September"
   ]
  },
  {
   "cell_type": "markdown",
   "metadata": {},
   "source": [
    "\n",
    "- Name: Jun He\n",
    "- ID: 8903073\n",
    "- Kindly note that this assignment is to be solved by yourself, without the use of AI and chatbots.\n",
    "- If chatbot usage is detected, the penalty that is discussed in Week 1 slides will apply.\n",
    "- Each code block will have a Todo comment which explains the functionality, expected input, and expected output of the function.\n",
    "- There are 10 marks in this assignment for assuring that the code couldn't be broken (no errors can be thrown, please consider mathematical and logical errors)\n",
    "- There are 10 marks in this assignment for commenting and code readability.\n"
   ]
  },
  {
   "cell_type": "markdown",
   "metadata": {},
   "source": [
    "### Part 1: Python Basics"
   ]
  },
  {
   "cell_type": "markdown",
   "metadata": {},
   "source": [
    "#### Question 1:"
   ]
  },
  {
   "cell_type": "code",
   "execution_count": 4,
   "metadata": {},
   "outputs": [
    {
     "name": "stdout",
     "output_type": "stream",
     "text": [
      "This product totally spends $226.00 after tax\n"
     ]
    }
   ],
   "source": [
    "\n",
    "def total_price(price, tax):\n",
    "    # 3 marks\n",
    "    # TODO: write the functionality of the code where\n",
    "    #  you are taking as an input a price of an item and the\n",
    "    #  tax in decimal (13% tax will be given as 0.13),\n",
    "    #  you should return the taxedPrice of that item\n",
    "    #  which will be the total price after tax a customer must pay\n",
    "    # (The price of the item plus the applicable taxes)\n",
    "\n",
    "    # s1: declare variable and calculate total price = after tax price + price\n",
    "    taxedPrice = price + (price * tax)\n",
    "    # s2 return \n",
    "    return taxedPrice\n",
    "\n",
    "# user input two parameters\n",
    "price = float(input(\"Please input the price of this product:\"))\n",
    "tax = 0.13\n",
    "t_price = total_price(price,tax)\n",
    "print(f\"This product totally spends ${t_price:.2f} after tax\")\n"
   ]
  },
  {
   "cell_type": "markdown",
   "metadata": {},
   "source": [
    "#### Question 2:"
   ]
  },
  {
   "cell_type": "code",
   "execution_count": 5,
   "metadata": {},
   "outputs": [
    {
     "name": "stdout",
     "output_type": "stream",
     "text": [
      "False\n",
      "True\n",
      "False\n"
     ]
    }
   ],
   "source": [
    "def divisible_by(x, y):\n",
    "    # 3 marks\n",
    "    # TODO: write a function that returns True if x is divisible by y,\n",
    "    #  and returns False OTHERWISE (all other cases).\n",
    "\n",
    "    # firstly, should check division cannot be 0\n",
    "    if y == 0:\n",
    "        return False\n",
    "    # x is divisible by y %y will ==0\n",
    "    return x % y == 0  \n",
    "\n",
    "print(divisible_by(100,0)) # special condition division is 0\n",
    "print(divisible_by(15,5))  # true\n",
    "print(divisible_by(100,9)) # false\n",
    "    "
   ]
  },
  {
   "cell_type": "markdown",
   "metadata": {},
   "source": [
    "#### Question 3:"
   ]
  },
  {
   "cell_type": "code",
   "execution_count": 1,
   "metadata": {},
   "outputs": [
    {
     "name": "stdout",
     "output_type": "stream",
     "text": [
      "77\n",
      "55\n",
      "726\n",
      "6.0\n",
      "0\n",
      "6\n",
      "error\n",
      "error\n",
      "error\n",
      "invalid operator\n"
     ]
    }
   ],
   "source": [
    "def basic_calculator(x, y, operator):\n",
    "    # 5 marks\n",
    "    # TODO: write the functionality of the code where you are\n",
    "    #  coding a basic calculator that performs basic addition \"+\", subtraction \"-\",\n",
    "    #  multiplication \"*\", division \"/\", modulus \"%\" and integer division \"//\"\n",
    "    #  the function must apply the operator to x and y for example:\n",
    "    #  basicCalculator(10, 15, \"*\") should apply 10*15 and save it to the result variable\n",
    "    #  NOTE: YOU NEED TO HANDLE DIVISION ERRORS BY RETURNING A STRING WITH THE WORD \"error\"\n",
    "    #  NOTE: YOU NEED TO HANDLE AN INVALID OPERATOR BY RETURNING A STRING HAVING THE WORD \"invalid\"\n",
    "\n",
    "    #use try and except to deal with errors\n",
    "    try:\n",
    "        if operator == \"+\":\n",
    "            result = x + y\n",
    "        elif operator == \"-\":\n",
    "            result = x - y\n",
    "        elif operator == \"*\":\n",
    "            result = x * y\n",
    "        elif operator == \"/\":\n",
    "            if y == 0:\n",
    "                return \"error\"\n",
    "            result = x / y\n",
    "        elif operator == \"%\":\n",
    "            if y == 0:\n",
    "                return \"error\"\n",
    "            result = x % y\n",
    "        elif operator == \"//\":\n",
    "            if y == 0:\n",
    "                return \"error\"\n",
    "            result = x // y\n",
    "        else :\n",
    "            return \"invalid operator\"\n",
    "\n",
    "        return result\n",
    "    except:\n",
    "        return \"error\"\n",
    "    \n",
    "    # display different result\n",
    "print(basic_calculator(66, 11, \"+\"))  \n",
    "print(basic_calculator(66, 11, \"-\"))  \n",
    "print(basic_calculator(66, 11, \"*\"))  \n",
    "print(basic_calculator(66, 11, \"/\"))  \n",
    "print(basic_calculator(66, 11, \"%\"))   \n",
    "print(basic_calculator(66, 11, \"//\"))  \n",
    "\n",
    "print(basic_calculator(66, 0, \"/\"))  \n",
    "print(basic_calculator(66, 0, \"%\"))   \n",
    "print(basic_calculator(66, 0, \"//\"))  \n",
    "\n",
    "\n",
    "print(basic_calculator(66, 6, \"^\"))   \n",
    "    "
   ]
  },
  {
   "cell_type": "markdown",
   "metadata": {},
   "source": [
    "#### Question 4:"
   ]
  },
  {
   "cell_type": "code",
   "execution_count": 2,
   "metadata": {},
   "outputs": [
    {
     "name": "stdout",
     "output_type": "stream",
     "text": [
      "12\n",
      "invalid\n",
      "0\n",
      "40\n"
     ]
    }
   ],
   "source": [
    "import re\n",
    "\n",
    "def sum_of_even(numbers_list):\n",
    "    try: # 3 marks\n",
    "    # TODO: write the functionality of the code where you are\n",
    "    # taking as an input a list of numbers\n",
    "    # returning the sum of even numbers in the list\n",
    "    # NOTE: YOU NEED TO HANDLE ERRORS OF GIVING LIST OF STRINGS OR/AND\n",
    "    #  STRINGS WITH NUMBERS by returning \"invalid\"\n",
    "    # sum_of_even([1,2,3,4,5,6]) = 12\n",
    "\n",
    "        even_total = 0\n",
    "        for item in numbers_list:\n",
    "            # firstly check if each element is valid or not\n",
    "            if not  isinstance(item, int) : # or not (re.search(r'[\\dA-Za-z]', item))\n",
    "                return \"invalid\"\n",
    "                \n",
    "            if item % 2 == 0:\n",
    "                even_total = even_total + item\n",
    "        \n",
    "        return even_total\n",
    "    except:\n",
    "        return \"invalid\" \n",
    "    \n",
    "print(sum_of_even([1, 2, 3, 4, 5, 6]))  #  12\n",
    "print(sum_of_even([8, 'abc9', 3, 6]))  # invalid\n",
    "print(sum_of_even([5, 9, 11]))           #   all odd --0\n",
    "print(sum_of_even([22, 4, 6, 8]))        #  all even -- 40"
   ]
  },
  {
   "cell_type": "markdown",
   "metadata": {},
   "source": [
    "#### Question 5:"
   ]
  },
  {
   "cell_type": "code",
   "execution_count": 10,
   "metadata": {},
   "outputs": [
    {
     "name": "stdout",
     "output_type": "stream",
     "text": [
      "User input string is:helena-jun.01\n",
      "After reversing, the string changed into:10.nuj-aneleh\n"
     ]
    }
   ],
   "source": [
    "def reverse_string(input_string):\n",
    "    # 3 marks\n",
    "    # TODO: write the functionality of the code where you are\n",
    "    # taking as an input a string\n",
    "    # returns the reverse of the string\n",
    "    # reverse_string(\"hello\") = \"olleh\"\n",
    "    # NOTE: Numbers should be handled as strings ex: 123 returns \"321\"\n",
    "\n",
    "    ##  negative steps to access elements starting from the end of the sequence\n",
    "    return input_string[::-1]\n",
    "\n",
    "# user input string  #any string, number, character\n",
    "user_input = str(input(\"Please input something you want:\"))\n",
    "print(\"User input string is:\"+user_input)\n",
    "print(\"After reversing, the string changed into:\"+reverse_string(user_input))\n",
    "\n",
    "\n",
    "\n"
   ]
  },
  {
   "cell_type": "markdown",
   "metadata": {},
   "source": [
    "#### Question 6:"
   ]
  },
  {
   "cell_type": "code",
   "execution_count": 27,
   "metadata": {},
   "outputs": [
    {
     "name": "stdout",
     "output_type": "stream",
     "text": [
      "  *  \n",
      " *** \n",
      "*****\n",
      " *** \n",
      "  *  \n"
     ]
    }
   ],
   "source": [
    "def diamond_string(length):\n",
    "    # 5 marks\n",
    "    # TODO: write the functionality of the code where you are\n",
    "    # taking as an input a POSITIVE ODD length\n",
    "    # saves in a string the diamond as follows:\n",
    "    # diamond_string(5)\n",
    "    #   *\n",
    "    #  ***\n",
    "    # *****\n",
    "    #  ***\n",
    "    #   *\n",
    "    # NOTE: The input must be positive odd, if not return empty string \"\"   \n",
    "\n",
    "    # firstly, we should check if the length is POSITIVE ODD\n",
    "    if length <= 0 or length % 2 == 0:\n",
    "        return \"\"\n",
    "\n",
    "    #declare diamond \n",
    "    diamond = []\n",
    "    ## operator is used for integer (or floor) division, so if 5//2 == 2\n",
    "    mid_num = length // 2\n",
    "    \n",
    "    ## Uses a loop to construct each line of the diamond. \n",
    "    # The number of stars increases until the middle of the diamond and then decreases\n",
    "    for i in range(length):\n",
    "        \n",
    "        if i <= mid_num:\n",
    "            stars = '*'*(2*i+1)\n",
    "        else:\n",
    "            stars = '*'*(2*(length-i-1)+1)\n",
    "        spaces = ' ' *(abs(mid_num-i)) # mid - i get absolute value  0,1,2,1,0\n",
    "        diamond.append(spaces+stars+spaces)\n",
    "    return '\\n'.join(diamond)\n",
    "\n",
    "print(diamond_string(5))\n"
   ]
  },
  {
   "cell_type": "markdown",
   "metadata": {},
   "source": [
    "#### Question 7:"
   ]
  },
  {
   "cell_type": "code",
   "execution_count": 29,
   "metadata": {},
   "outputs": [
    {
     "name": "stdout",
     "output_type": "stream",
     "text": [
      "4\n",
      "8\n",
      "4\n",
      "error\n"
     ]
    }
   ],
   "source": [
    "def longest_consecutive_subarray(number_array):\n",
    "    # 8 marks\n",
    "    # TODO: write the functionality of the code where you are\n",
    "    # taking as an input an array of REAL NUMBERS\n",
    "    # return the length of the longest subarray that could be\n",
    "    # built using the input\n",
    "    # longest_consecutive_subarray([100, 4, 200, 1, 3, 2]) = 4\n",
    "    # Function should return 4 which represents in this case\n",
    "    # the longest_consecutive_subarray that could be built [1,2,3,4]\n",
    "    # You can't use Built in Sorting!\n",
    "    # Note: - If any error exists in the input, \"error\" should be returned\n",
    "    #       - The difference between any 2 consecuetive numbers is 1.\n",
    "\n",
    "\n",
    "     # firstly,check if the input is a list of real numbers or int/float digital type\n",
    "    if not isinstance(number_array, list) or not all(isinstance(x, (int, float)) for x in number_array):\n",
    "        return \"error\"  \n",
    "    \n",
    "\n",
    " # store the unique elements(use set) in the array\n",
    "    number_set = set(number_array)\n",
    "    # declare \n",
    "    longest_size = 0\n",
    "    \n",
    "    # Iterate through each number in the set\n",
    "    for item in number_set:\n",
    "        # checks if it’s the start of a sequence (i.e., num - 1 is not in the set).\n",
    "        if item - 1 not in number_set:\n",
    "            # if yes, assign item as current number and current_size = 1\n",
    "            current_num = item\n",
    "            current_size = 1\n",
    "            \n",
    "            # counts the length of the consecutive sequence starting from that number\n",
    "            # also based on current number to find next consecutive number if exists number_set\n",
    "            while current_num + 1 in number_set:\n",
    "                current_num += 1\n",
    "                current_size += 1\n",
    "            \n",
    "            # Update the longest streak found, find the max one\n",
    "            longest_size = max(longest_size, current_size)\n",
    "    \n",
    "    return longest_size\n",
    "\n",
    "# Test examples:\n",
    "print(longest_consecutive_subarray([100, 4, 200, 1, 3, 2])) \n",
    "print(longest_consecutive_subarray([55, 15, 19, 12, 14, 16, 17, 13, 18,19]))  \n",
    "print(longest_consecutive_subarray([98.0, 99.0, 97.0,100.00]))  \n",
    "print(longest_consecutive_subarray(\"Helena str\")) "
   ]
  },
  {
   "cell_type": "markdown",
   "metadata": {},
   "source": [
    "#### Question 8 (Challenging):"
   ]
  },
  {
   "cell_type": "code",
   "execution_count": 36,
   "metadata": {},
   "outputs": [
    {
     "name": "stdout",
     "output_type": "stream",
     "text": [
      "True\n",
      "False\n",
      "True\n"
     ]
    }
   ],
   "source": [
    "def can_be_segmented(input_string, word_dict):\n",
    "    # 15 marks\n",
    "    # TODO: Write the functionality of the code where you\n",
    "    # are given as an input a string and a word_dict\n",
    "    # Your target is to return True, if input_string can be segmented\n",
    "    # (broken-down) into a sequence of one or more dictionary words\n",
    "    # otherwise return False\n",
    "    # Sample Input: can_be_segmented(\"applepenapple\", {'apple','pen'}) ==> True\n",
    "    # Sample Input: can_be_segmented(\"catsandog\", {'cats','dog','sand','and','cat'}) ==> False\n",
    "    # Hint: You can start by checking which prefix exist in the dictionary, and call the same function recursively\n",
    "    # on the remaining string.\n",
    "\n",
    "    # check input str length\n",
    "    if len(input_string) == 0:\n",
    "        return True\n",
    "    #for loop every character or word \n",
    "    for i in range(1, len(input_string)+1):\n",
    "        part_input = input_string[:i] # 1,2,3,4,5.....a ap app appl apple....\n",
    "        # print(input_string[i:]) the rest of input string like: pplepenapple,plepenapple...\n",
    "        # check if the part_input exists in the dic\n",
    "        if part_input in word_dict:\n",
    "            #  call the same function recursively\n",
    "            if(can_be_segmented(input_string[i:],word_dict)):\n",
    "                return True\n",
    "\n",
    "    return False\n",
    "\n",
    "print(can_be_segmented(\"applepenapple\", {'apple', 'pen'})) \n",
    "print(can_be_segmented(\"catsandog\", {'cats', 'dog', 'sand', 'and', 'cat'}))  \n",
    "print(can_be_segmented(\"catsanddog\", {'cats', 'dog', 'sand', 'and', 'cat'}))  "
   ]
  },
  {
   "cell_type": "markdown",
   "metadata": {},
   "source": [
    "### Part 2: Numpy Basics: \n",
    "- In this Part of the assignment, you are <b>ONLY ALLOWED</b> to use Numpy and its functions. \n",
    "- You are not expected to use Loops."
   ]
  },
  {
   "cell_type": "code",
   "execution_count": 37,
   "metadata": {},
   "outputs": [],
   "source": [
    "import numpy as np"
   ]
  },
  {
   "cell_type": "markdown",
   "metadata": {},
   "source": [
    "#### Question 9:"
   ]
  },
  {
   "cell_type": "code",
   "execution_count": 38,
   "metadata": {},
   "outputs": [
    {
     "name": "stdout",
     "output_type": "stream",
     "text": [
      "False\n",
      "True\n"
     ]
    }
   ],
   "source": [
    "def no_zeros(array_input):\n",
    "    # 3 marks\n",
    "    ## TODO: This function should return True if \n",
    "    ## numpy array arrayInput does not contain any zero\n",
    "    ## and will return False otherwise.\n",
    "    ## Implement this function using ONLY numpy methods\n",
    "    ## Sample input: np.array([1,2,3,4,5,6,0]) Sample Output: False\n",
    "    ## Sample input: np.array([1,2,3,4,5,6]) Sample Output: True\n",
    "\n",
    " return np.all(array_input !=0)\n",
    "\n",
    "print(no_zeros(np.array([1, 2, 3, 4, 5, 6, 0])))  # Outputs False\n",
    "print(no_zeros(np.array([1, 2, 3, 4, 5, 6])))     # Outputs True\n",
    "\n"
   ]
  },
  {
   "cell_type": "markdown",
   "metadata": {},
   "source": [
    "#### Question 10:"
   ]
  },
  {
   "cell_type": "code",
   "execution_count": 41,
   "metadata": {},
   "outputs": [
    {
     "name": "stdout",
     "output_type": "stream",
     "text": [
      "[[1 1 1]\n",
      " [1 0 1]\n",
      " [1 1 1]]\n"
     ]
    }
   ],
   "source": [
    "def two_dimensions(n):\n",
    "    # 7 marks\n",
    "    ## TODO: This function should create a 2d Array of shape n*n for any positive number\n",
    "    ## Where the borders of the array are ones\n",
    "    ## all other elements are zero\n",
    "    ## Implement this function using ONLY numpy methods\n",
    "    ## Sample input 3\n",
    "    ## sample output [[1,1,1],[1,0,1],[1,1,1]]\n",
    "\n",
    "    # firstly, check if the number is positive\n",
    "    if n <= 0:\n",
    "        return np.array({})\n",
    "    \n",
    "    # build a n*n array, each element is 0\n",
    "    arry = np.zeros((n,n), dtype = int)\n",
    "    \n",
    "     ## Where the borders of the array are ones\n",
    "     ## all other elements are zero\n",
    "     # for above requirements, should set the first+last row and first+last column to 1\n",
    "    arry[0, :] = 1 #first row\n",
    "    arry[-1, :] =1 #last row\n",
    "    arry[:, 0] =1 #first column\n",
    "    arry[:, -1] =1 #last column\n",
    "    return arry\n",
    "\n",
    "\n",
    "print(two_dimensions(3))\n",
    "\n",
    "    \n",
    "\n",
    "    "
   ]
  },
  {
   "cell_type": "markdown",
   "metadata": {},
   "source": [
    "#### Question 11:"
   ]
  },
  {
   "cell_type": "code",
   "execution_count": 51,
   "metadata": {},
   "outputs": [
    {
     "name": "stdout",
     "output_type": "stream",
     "text": [
      "[ 0  1  2  3  4  5  6  7  8  9 10 11 12]\n",
      "[12  7 10  0  8  6 11  9  5  3  4  1  2]\n",
      "[[12  7 10]\n",
      " [ 0  8  6]\n",
      " [11  9  5]]\n"
     ]
    }
   ],
   "source": [
    "def random_generation(n,min,max):\n",
    "    # 5 marks\n",
    "    # TODO: Write a function that takes as an input\n",
    "    # Dimension of 2d Array n, min and max\n",
    "    # Generate an n*n array with random numbers between\n",
    "    # min and max inclusive\n",
    "    # Such that no element is duplicated\n",
    "    # return numpy array\n",
    "    # Implement this function using ONLY numpy methods\n",
    "    # Sample Input: random_generation(3,0,12) --> [[4,2,6],[1,5,11],[10, 3,9]]\n",
    "\n",
    "    # generate a array, the number from min to max+1\n",
    "    array_2d = np.arange(min, max+1)\n",
    "    print(array_2d)\n",
    "\n",
    "    np.random.shuffle(array_2d)\n",
    "    \n",
    "    # After misordering randomly\n",
    "    print(array_2d)\n",
    "\n",
    "    return array_2d[:n*n].reshape(n,n)\n",
    "\n",
    "print(random_generation(3,0,12))"
   ]
  },
  {
   "cell_type": "markdown",
   "metadata": {},
   "source": [
    "#### Question 12:"
   ]
  },
  {
   "cell_type": "code",
   "execution_count": 52,
   "metadata": {},
   "outputs": [
    {
     "name": "stdout",
     "output_type": "stream",
     "text": [
      "40\n"
     ]
    }
   ],
   "source": [
    "def matrix_border_sum(matrix):\n",
    "    # 8 marks\n",
    "    # TODO: Write a function that takes as an input a matrix\n",
    "    # and return the sum of all elements in the borders\n",
    "    # Implement this function using ONLY numpy methods\n",
    "    # Sample Input: np.array([[1,2,3],\n",
    "    #                         [4,5,6],\n",
    "    #                         [7,8,9]])\n",
    "    # Output: matrix_border_sum(matrix) =  1+2+3+4+6+7+8+9 = 40\n",
    "\n",
    "    # to fulfil this function should get the value that  top row, bottom row, left column (excluding the corners), \n",
    "    # and right column (excluding the corners) of the matrix and sums them up\n",
    "    # declare border_sum\n",
    "    border_sum = 0\n",
    "\n",
    "    first_row = matrix[0,:]\n",
    "    last_row  = matrix[-1,:]\n",
    "    left_column = matrix[1:-1,0]  # 1:-1 Exclude the first and last rows\n",
    "    right_column = matrix[1:-1,-1]\n",
    "    border_sum = np.sum(first_row) + np.sum(last_row) + np.sum(left_column) + np.sum(right_column) \n",
    "\n",
    "    return border_sum\n",
    "\n",
    "matrix = np.array([[1, 2, 3],\n",
    "                   [4, 5, 6],\n",
    "                   [7, 8, 9]])\n",
    "\n",
    "# Output\n",
    "print(matrix_border_sum(matrix)) "
   ]
  },
  {
   "cell_type": "markdown",
   "metadata": {},
   "source": [
    "### Part 3: Pandas"
   ]
  },
  {
   "cell_type": "code",
   "execution_count": 1,
   "metadata": {},
   "outputs": [],
   "source": [
    "import pandas as pd"
   ]
  },
  {
   "cell_type": "markdown",
   "metadata": {},
   "source": [
    "#### Question 13 (12 marks): \n",
    "- Using RegularSeasonCompactResults.csv and Teams.csv apply the following functionalities"
   ]
  },
  {
   "cell_type": "code",
   "execution_count": 6,
   "metadata": {},
   "outputs": [
    {
     "name": "stdout",
     "output_type": "stream",
     "text": [
      "<bound method NDFrame.head of         Season  Daynum  Wteam  Wscore  Lteam  Lscore Wloc  Numot\n",
      "0         1985      20   1228      81   1328      64    N      0\n",
      "1         1985      25   1106      77   1354      70    H      0\n",
      "2         1985      25   1112      63   1223      56    H      0\n",
      "3         1985      25   1165      70   1432      54    H      0\n",
      "4         1985      25   1192      86   1447      74    H      0\n",
      "...        ...     ...    ...     ...    ...     ...  ...    ...\n",
      "145284    2016     132   1114      70   1419      50    N      0\n",
      "145285    2016     132   1163      72   1272      58    N      0\n",
      "145286    2016     132   1246      82   1401      77    N      1\n",
      "145287    2016     132   1277      66   1345      62    N      0\n",
      "145288    2016     132   1386      87   1433      74    N      0\n",
      "\n",
      "[145289 rows x 8 columns]>\n",
      "Totally draw matches are : No draw matches found\n"
     ]
    }
   ],
   "source": [
    "# Using RegularSeasonCompactResults.csv\n",
    "# 1- Create a filter to show if there are any draw matches\n",
    "# 2- Apply the filter to the dataframe\n",
    "# 3- SHOW/PRINT the dataframe length or count (4 marks)\n",
    "## TODO: Your code should be here\n",
    "\n",
    "# draw matches means Wscore == Lscore\n",
    "regular_Season_Compact_Results = pd.read_csv('RegularSeasonCompactResults.csv')\n",
    "print(regular_Season_Compact_Results.head)\n",
    "# so we can check each row if Wscore == Lscore\n",
    "draw_condition = regular_Season_Compact_Results['Wscore'] == regular_Season_Compact_Results['Lscore']\n",
    "# 2- Apply the filter to the dataframe\n",
    "draw_matches = regular_Season_Compact_Results[draw_condition]\n",
    "# 3- SHOW/PRINT the dataframe length or count (4 marks)\n",
    "total_count_draw = len(draw_matches)\n",
    "print(f\"Totally draw matches are : {draw_matches if not draw_matches.empty else 'No draw matches found'}\")\n",
    "\n",
    "\n"
   ]
  },
  {
   "cell_type": "code",
   "execution_count": 18,
   "metadata": {},
   "outputs": [
    {
     "name": "stdout",
     "output_type": "stream",
     "text": [
      "1327\n",
      "Empty result for winningteamID = 1327 and season = 2013\n",
      "Other condition like season = 1985,there result count is 3 \n"
     ]
    }
   ],
   "source": [
    "# Using RegularSeasonCompactResults.csv\n",
    "matches_df = pd.read_csv('RegularSeasonCompactResults.csv')\n",
    "# 1- Create a filter showing the entries where the winningteamID= 1400- (last two digits of your id)\n",
    "my_id = 8903073\n",
    "winning_team_ID= 1400- (my_id%100)\n",
    "print(winning_team_ID)\n",
    "winning_team_confition = matches_df['Wteam'] == winning_team_ID\n",
    "\n",
    "# 2- Create another filter for the season of 2013\n",
    "season_condition = matches_df['Season'] == 2013\n",
    "season_condition1 = matches_df['Season'] == 1985\n",
    "\n",
    "# 3- Apply the filter to the dataframe\n",
    "final_result = matches_df[winning_team_confition & season_condition]\n",
    "# 4- Show the resulted dataframe (4 marks)\n",
    "# (Example: IF your id is 8000021, the winning team id = 1400-21= 1379)\n",
    "# TODO: Your code should be here\n",
    "\n",
    "final_result_other_season = matches_df[winning_team_confition & season_condition1]\n",
    "print(f\"{final_result if not final_result.empty else 'Empty result for winningteamID = 1327 and season = 2013'}\")\n",
    "\n",
    "print(f\"Other condition like season = 1985,there result count is {len(final_result_other_season)} \")"
   ]
  },
  {
   "cell_type": "code",
   "execution_count": 22,
   "metadata": {},
   "outputs": [
    {
     "name": "stdout",
     "output_type": "stream",
     "text": [
      "Total march results: 145289\n",
      "\n",
      "\n",
      "\n",
      "   Season  Daynum  Wteam  Wscore  Lteam  Lscore Wloc  Numot  Team_Id  \\\n",
      "0    1985      20   1228      81   1328      64    N      0     1228   \n",
      "1    1985      25   1106      77   1354      70    H      0     1106   \n",
      "2    1985      25   1112      63   1223      56    H      0     1112   \n",
      "\n",
      "    Team_Name  \n",
      "0    Illinois  \n",
      "1  Alabama St  \n",
      "2     Arizona  \n"
     ]
    }
   ],
   "source": [
    "# Using RegularSeasonCompactResults.csv & Teams.csv\n",
    "# 1- Load and merge both dataframes\n",
    "\n",
    "# 2- Where the merge is on WinningTeamId (RegularSeasonCompactResults) and TeamId (Teams.csv)\n",
    "# 3- Name the dataframe: DFCombined\n",
    "# 4- Show the top 3 rows (4 marks)\n",
    "# TODO: Your code should be here\n",
    "\n",
    "\n",
    "# load the data results\n",
    "regular_season_compact_results = pd.read_csv('RegularSeasonCompactResults.csv')\n",
    "teams_results = pd.read_csv('Teams.csv')\n",
    "# merge the dataframes\n",
    "DFCombined = pd.merge(regular_season_compact_results, teams_results, left_on='Wteam', right_on='Team_Id')\n",
    "# display top 3 \n",
    "print(f\"Total march results: {len(DFCombined)}\")\n",
    "print(\"\\n\\n\")\n",
    "print(DFCombined.head(3))\n",
    "\n",
    "\n"
   ]
  }
 ],
 "metadata": {
  "kernelspec": {
   "display_name": "Python 3",
   "language": "python",
   "name": "python3"
  },
  "language_info": {
   "codemirror_mode": {
    "name": "ipython",
    "version": 3
   },
   "file_extension": ".py",
   "mimetype": "text/x-python",
   "name": "python",
   "nbconvert_exporter": "python",
   "pygments_lexer": "ipython3",
   "version": "3.12.5"
  }
 },
 "nbformat": 4,
 "nbformat_minor": 2
}
